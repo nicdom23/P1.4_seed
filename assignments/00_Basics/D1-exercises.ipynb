{
 "cells": [
  {
   "cell_type": "markdown",
   "metadata": {
    "deletable": false,
    "nbgrader": {
     "checksum": "9f233eb32b3773049e805057c9cafee7",
     "grade": false,
     "grade_id": "random_desc",
     "locked": true,
     "solution": false
    }
   },
   "source": [
    "# Pure Python evaluation of vector norms\n",
    "\n",
    "Generate a list of random floats of a given dimension (dim), and store its result in the variable `vec`."
   ]
  },
  {
   "cell_type": "code",
   "execution_count": 12,
   "metadata": {
    "deletable": false,
    "nbgrader": {
     "checksum": "b1ed817404c5a21f9dcf7f89748a0c8d",
     "grade": false,
     "grade_id": "random",
     "locked": false,
     "solution": true
    }
   },
   "outputs": [
    {
     "name": "stdout",
     "output_type": "stream",
     "text": [
      "Populating the interactive namespace from numpy and matplotlib\n"
     ]
    },
    {
     "data": {
      "text/plain": [
       "array([4.12385884e-01, 5.88695548e-01, 3.21201658e-01, 4.78296519e-01,\n",
       "       4.36438357e-01, 3.04528334e-01, 3.38370814e-01, 4.17226873e-01,\n",
       "       8.12765798e-02, 9.86824789e-01, 2.06028154e-01, 8.07461616e-01,\n",
       "       7.12587334e-01, 1.36472428e-01, 6.23974284e-01, 2.83168244e-01,\n",
       "       8.20153552e-01, 5.25227785e-02, 6.01207853e-01, 4.56914336e-01,\n",
       "       7.55200756e-01, 8.75327004e-01, 9.68985861e-01, 8.40111164e-01,\n",
       "       7.51435939e-01, 8.39861877e-01, 2.79025210e-01, 5.16482362e-01,\n",
       "       2.36052183e-01, 7.46227934e-01, 3.45922476e-01, 9.68731557e-01,\n",
       "       7.27070410e-01, 9.62199144e-01, 6.50679857e-01, 5.56547647e-01,\n",
       "       1.74683618e-01, 2.92315241e-02, 7.36252447e-01, 2.95484521e-01,\n",
       "       3.38988285e-01, 3.38592719e-01, 1.95061380e-01, 1.93232952e-01,\n",
       "       9.96645828e-01, 7.05163419e-01, 8.91525098e-01, 9.27146269e-01,\n",
       "       9.75079532e-01, 4.73007114e-01, 4.17029175e-01, 2.39276251e-01,\n",
       "       3.05846506e-01, 4.32261803e-01, 1.33706090e-01, 7.36106946e-01,\n",
       "       6.68079408e-01, 1.42687871e-01, 1.90053049e-01, 2.71157364e-01,\n",
       "       1.52233380e-01, 5.78694850e-01, 5.22081868e-01, 1.56142060e-01,\n",
       "       1.84640633e-01, 1.68264588e-01, 7.49936818e-01, 9.84257882e-01,\n",
       "       5.94808044e-01, 7.52304319e-01, 7.11287590e-01, 3.11749145e-01,\n",
       "       4.17786142e-01, 7.28925641e-01, 7.85336889e-01, 6.35967222e-01,\n",
       "       6.59256931e-01, 8.18611800e-01, 1.21081939e-01, 2.68064947e-01,\n",
       "       2.73570832e-01, 3.84356488e-01, 6.58247041e-01, 6.81002731e-01,\n",
       "       3.72609027e-01, 5.14662142e-01, 2.01263718e-01, 8.88380473e-01,\n",
       "       6.22195393e-01, 9.96849319e-01, 4.24172610e-01, 9.07957232e-01,\n",
       "       3.66813348e-01, 5.33287352e-01, 5.54599176e-01, 3.82149969e-01,\n",
       "       5.56759312e-01, 7.92089677e-01, 7.90324629e-01, 7.92986501e-01,\n",
       "       4.36261549e-01, 7.48320880e-01, 6.57939232e-01, 7.73291610e-01,\n",
       "       5.37540149e-01, 8.56985961e-01, 8.70945372e-01, 9.23229823e-01,\n",
       "       5.32178067e-01, 8.76216635e-01, 5.11434988e-01, 1.90372709e-01,\n",
       "       3.64661988e-01, 8.53147371e-01, 5.68525318e-01, 2.54959609e-01,\n",
       "       8.40906017e-01, 8.14437386e-01, 2.42490530e-02, 8.87614596e-02,\n",
       "       5.69450968e-01, 4.21664699e-01, 7.81777931e-01, 1.33166244e-01,\n",
       "       6.54165667e-01, 4.74195126e-01, 9.28119886e-01, 7.66893596e-01,\n",
       "       2.07209917e-01, 2.10913897e-02, 1.37936093e-01, 8.23963039e-01,\n",
       "       9.63560056e-02, 8.60191192e-01, 9.87734482e-01, 9.98116836e-01,\n",
       "       5.92753666e-01, 6.21779796e-01, 9.71360763e-01, 7.22279273e-01,\n",
       "       3.10785310e-01, 7.28299940e-01, 5.72836601e-01, 3.84688411e-01,\n",
       "       1.59501759e-01, 3.77441834e-01, 4.27507873e-01, 3.86598351e-01,\n",
       "       2.21170924e-01, 3.11359704e-01, 5.52610825e-01, 9.85198743e-01,\n",
       "       6.65246826e-01, 5.13150244e-01, 6.16543881e-01, 1.51423238e-01,\n",
       "       2.13653523e-01, 7.88138974e-01, 1.48793354e-01, 4.10792750e-01,\n",
       "       5.10407326e-01, 6.20406302e-01, 5.02922997e-01, 1.88157028e-01,\n",
       "       4.36263967e-01, 5.65967436e-01, 4.62979849e-02, 1.54673844e-01,\n",
       "       1.76670639e-01, 9.11615610e-01, 1.56396765e-01, 6.07683359e-01,\n",
       "       6.25922083e-01, 6.03353199e-01, 8.30073966e-01, 1.21174724e-01,\n",
       "       9.52194526e-01, 4.31229142e-01, 1.86187379e-01, 2.91674212e-01,\n",
       "       3.66074941e-01, 7.89753700e-01, 6.36497983e-01, 3.13634370e-01,\n",
       "       4.47032383e-01, 6.98688414e-01, 7.60402119e-01, 1.35257407e-01,\n",
       "       4.18302000e-01, 4.39969286e-01, 2.79618440e-02, 8.86296224e-01,\n",
       "       2.89488089e-01, 3.75968868e-01, 8.78825149e-01, 8.74605430e-01,\n",
       "       1.53984167e-01, 1.80472953e-02, 9.32751502e-01, 7.37579403e-01,\n",
       "       2.25838103e-02, 7.32928585e-01, 1.68612938e-02, 2.50244258e-01,\n",
       "       1.26422490e-01, 7.36729010e-01, 8.15067775e-01, 6.99824795e-01,\n",
       "       5.39795936e-01, 2.84352654e-01, 2.91921207e-01, 6.78730230e-01,\n",
       "       5.13708433e-01, 4.29951150e-01, 3.49890854e-01, 3.71488860e-01,\n",
       "       2.06655745e-02, 3.27694184e-02, 1.65441974e-01, 8.91133218e-01,\n",
       "       5.64773946e-01, 4.79893491e-02, 5.21798757e-01, 8.23045998e-01,\n",
       "       6.06183052e-01, 4.27524257e-01, 1.15942531e-01, 2.30535591e-01,\n",
       "       5.40991740e-01, 6.48685303e-01, 4.13192182e-01, 4.19166240e-01,\n",
       "       9.93740320e-01, 4.79942986e-01, 2.87607200e-01, 6.51736706e-01,\n",
       "       8.90509630e-01, 1.19314201e-01, 5.63367960e-01, 8.90139871e-01,\n",
       "       8.55679670e-01, 8.12501668e-01, 8.57800256e-01, 6.16026118e-01,\n",
       "       7.51782495e-01, 1.35437567e-01, 6.74354235e-01, 2.31296709e-01,\n",
       "       5.49349509e-02, 3.31678658e-01, 9.49112603e-01, 8.43686710e-02,\n",
       "       8.31758130e-01, 4.61543635e-01, 3.88460901e-01, 2.80501411e-01,\n",
       "       2.17219398e-01, 6.65898835e-01, 8.92828421e-01, 4.36682013e-01,\n",
       "       2.25981749e-01, 2.70702857e-01, 3.78680325e-01, 2.79264784e-01,\n",
       "       6.46858500e-02, 1.13471561e-01, 8.70378885e-01, 3.65818310e-01,\n",
       "       6.90011852e-02, 3.32311120e-01, 7.10026341e-01, 3.67843563e-01,\n",
       "       1.08409788e-01, 3.83438258e-01, 7.22594764e-01, 6.25024094e-01,\n",
       "       7.90527915e-01, 1.49147122e-02, 7.60972888e-01, 8.16355758e-01,\n",
       "       8.65880671e-01, 1.18671412e-01, 8.05782642e-01, 8.30528567e-01,\n",
       "       7.19032430e-01, 6.94595592e-01, 7.92841538e-01, 1.27807911e-01,\n",
       "       4.71537959e-01, 5.47578440e-01, 2.00986518e-01, 9.97176100e-01,\n",
       "       8.53908360e-01, 5.51677589e-01, 7.38101669e-02, 9.07873394e-01,\n",
       "       2.61193377e-01, 3.79505776e-01, 5.25635110e-01, 8.02847982e-01,\n",
       "       4.98448093e-01, 9.13114956e-01, 1.89370028e-01, 1.28522253e-01,\n",
       "       2.14003418e-01, 2.88902859e-01, 5.03897880e-01, 1.78033846e-03,\n",
       "       6.56689619e-01, 4.00203955e-01, 2.09149478e-02, 7.21912060e-01,\n",
       "       4.17500113e-02, 2.78918079e-01, 4.12943601e-01, 5.41779731e-01,\n",
       "       3.22779826e-01, 3.79843720e-01, 1.89410828e-01, 3.42563622e-01,\n",
       "       3.45367300e-01, 9.37883621e-01, 2.51107035e-01, 5.83927347e-01,\n",
       "       2.47893425e-01, 3.42627617e-01, 8.88602838e-01, 3.25115003e-01,\n",
       "       1.81458670e-01, 5.12771111e-01, 9.60168161e-01, 2.04599565e-01,\n",
       "       2.94850275e-01, 5.96154918e-01, 5.58699642e-01, 8.82399003e-01,\n",
       "       1.96597692e-01, 7.67444491e-02, 5.55542806e-01, 3.88254199e-02,\n",
       "       4.30239866e-01, 7.42943773e-01, 4.80730392e-01, 7.66951141e-01,\n",
       "       8.98039939e-01, 9.79049212e-01, 7.26831104e-02, 1.92304990e-01,\n",
       "       2.96271397e-01, 8.45369577e-01, 2.44077094e-01, 9.43724107e-01,\n",
       "       2.18493086e-01, 3.78899794e-01, 7.01476179e-01, 9.29807307e-02,\n",
       "       2.24104141e-01, 5.21478000e-01, 2.04513532e-01, 1.51266051e-01,\n",
       "       5.03034999e-01, 2.15159300e-01, 4.66150465e-03, 3.13068689e-01,\n",
       "       6.12171994e-01, 3.31633919e-01, 7.82424960e-01, 6.01158581e-01,\n",
       "       1.42059193e-01, 3.09722980e-01, 6.88352339e-01, 7.37867813e-01,\n",
       "       1.95788823e-01, 3.55636473e-01, 2.96710914e-01, 7.36716577e-01,\n",
       "       2.95033789e-02, 7.46922828e-02, 7.70327128e-01, 4.80237199e-01,\n",
       "       8.79030969e-01, 3.34000285e-01, 4.81894663e-01, 7.79515588e-01,\n",
       "       5.78628850e-01, 2.82621123e-01, 7.97262318e-01, 6.69477353e-01,\n",
       "       1.67546005e-01, 6.40887124e-01, 1.21588199e-02, 7.43514663e-01,\n",
       "       8.70220594e-01, 2.59477893e-01, 4.06270249e-01, 4.57018998e-01,\n",
       "       9.47319635e-01, 8.91667695e-01, 2.18633844e-01, 8.06809684e-01,\n",
       "       4.13892942e-01, 7.24499018e-01, 6.97421546e-01, 5.15654710e-01,\n",
       "       4.45429038e-01, 9.98199536e-01, 2.36762796e-02, 1.94326938e-01,\n",
       "       9.24221189e-01, 5.18032612e-02, 6.36530182e-01, 6.30383664e-01,\n",
       "       6.77669480e-01, 3.76443534e-01, 6.44666693e-01, 9.05226790e-01,\n",
       "       5.43081662e-01, 6.62127431e-02, 5.81135179e-02, 5.31198970e-01,\n",
       "       5.97478407e-01, 3.65427096e-01, 9.07862258e-01, 7.64244116e-01,\n",
       "       4.38839892e-01, 8.01423197e-01, 9.90052868e-01, 9.20548881e-01,\n",
       "       8.04264848e-01, 3.67112354e-01, 6.84955920e-01, 6.43589011e-01,\n",
       "       7.55897383e-01, 6.63127815e-01, 8.71127631e-01, 7.40368981e-01,\n",
       "       2.05897563e-01, 5.17949212e-01, 9.65345565e-01, 7.12921818e-02,\n",
       "       6.18036913e-01, 9.57635191e-01, 8.72818022e-01, 1.27815752e-01,\n",
       "       6.33632602e-01, 4.64909947e-01, 6.34053689e-01, 4.19447906e-01,\n",
       "       5.06952519e-01, 7.24400853e-02, 9.47748241e-01, 4.15808843e-01,\n",
       "       3.57365313e-01, 7.43394551e-01, 8.55881848e-01, 9.32063399e-02,\n",
       "       7.57039433e-01, 7.16852241e-01, 2.79190511e-01, 7.11386478e-01,\n",
       "       9.74197951e-01, 3.05291137e-02, 9.31993199e-01, 7.35549524e-01,\n",
       "       4.50882618e-01, 6.01808770e-01, 3.26469292e-01, 7.98938744e-01,\n",
       "       8.46120417e-02, 1.52918906e-01, 8.20082345e-01, 2.44753870e-01,\n",
       "       8.91351330e-01, 6.02064341e-01, 2.87598145e-02, 4.37168967e-01,\n",
       "       7.47731362e-01, 8.04263547e-01, 4.90056317e-01, 1.72406234e-02,\n",
       "       1.55763341e-01, 1.70951737e-01, 5.57634708e-01, 8.29444013e-01,\n",
       "       5.82789043e-01, 1.07346057e-01, 7.50146833e-01, 3.24336556e-01,\n",
       "       3.30973056e-01, 8.83709103e-01, 5.77049106e-02, 2.26595953e-01,\n",
       "       5.51284366e-01, 5.33783682e-01, 2.11575358e-01, 5.22981871e-01,\n",
       "       8.97350188e-01, 2.62178323e-01, 9.28075424e-01, 5.17609944e-01,\n",
       "       6.38267648e-01, 6.24661024e-01, 6.16706172e-01, 9.04240559e-02,\n",
       "       7.77629356e-01, 3.69857334e-01, 2.98929950e-01, 4.81322491e-01,\n",
       "       6.45347826e-01, 7.07483469e-01, 7.54024479e-01, 1.29377273e-01,\n",
       "       4.11182127e-01, 4.80336574e-01, 9.27305168e-01, 8.13126280e-01,\n",
       "       7.44504170e-01, 1.99052280e-01, 7.05729566e-01, 3.28085089e-01,\n",
       "       2.91225766e-01, 1.54836010e-01, 7.15629448e-01, 4.08863166e-02,\n",
       "       2.35499891e-01, 8.73932072e-01, 8.11650496e-01, 9.50851502e-01,\n",
       "       5.14706925e-01, 3.69009387e-01, 1.92097352e-01, 9.05497946e-01,\n",
       "       6.07720232e-01, 5.72392543e-01, 4.60297153e-01, 5.39810236e-01,\n",
       "       9.19480993e-01, 1.20427632e-01, 6.97082842e-01, 6.20467231e-01,\n",
       "       7.72124224e-01, 9.82083033e-01, 5.53070956e-01, 1.09308720e-01,\n",
       "       1.98760398e-01, 5.10008424e-01, 6.04698301e-02, 8.59972559e-01,\n",
       "       6.99724283e-02, 6.89270175e-01, 1.52367405e-01, 5.50989767e-03,\n",
       "       2.98110651e-01, 1.61793308e-01, 8.52931879e-01, 8.53302858e-01,\n",
       "       6.98603697e-01, 7.67671494e-01, 9.91921274e-01, 1.64945717e-01,\n",
       "       1.23732234e-01, 3.80028283e-01, 9.30410803e-01, 9.29375935e-01,\n",
       "       8.31618987e-01, 6.52446081e-01, 2.28729815e-01, 1.81840298e-01,\n",
       "       6.00215740e-02, 8.77812180e-01, 7.83748133e-01, 3.33130272e-01,\n",
       "       8.24399451e-01, 9.69581633e-01, 4.59225236e-01, 2.37719260e-01,\n",
       "       3.05112905e-01, 1.84655941e-01, 9.87246531e-01, 5.03466408e-01,\n",
       "       4.33169084e-01, 2.18241587e-01, 2.55696364e-01, 8.77824582e-01,\n",
       "       9.19219532e-01, 8.02143460e-01, 8.28844532e-01, 3.19275535e-01,\n",
       "       6.43686853e-01, 3.54673048e-01, 9.91376015e-01, 1.75288752e-01,\n",
       "       5.60723177e-01, 4.65240044e-02, 1.27344746e-01, 2.10905472e-01,\n",
       "       7.79809820e-01, 7.31271498e-01, 1.24586051e-01, 7.67261328e-01,\n",
       "       3.86989871e-01, 1.17931334e-01, 9.37272798e-01, 6.72459066e-01,\n",
       "       4.07635925e-01, 2.06274381e-01, 6.59790287e-01, 4.56191390e-01,\n",
       "       8.30435223e-01, 1.58490960e-01, 4.00407483e-01, 3.78186091e-01,\n",
       "       2.38073124e-02, 4.06643494e-01, 5.00427578e-01, 2.50017140e-01,\n",
       "       3.07251540e-02, 2.70909969e-01, 5.28732385e-01, 5.01090781e-01,\n",
       "       9.26124569e-01, 9.66921072e-01, 6.69440304e-01, 6.17669953e-02,\n",
       "       7.32271425e-01, 4.41730069e-02, 3.45006161e-01, 9.17629899e-01,\n",
       "       4.13850016e-01, 2.97154004e-01, 6.48249782e-01, 4.91120313e-01,\n",
       "       3.49607382e-01, 7.45709737e-01, 6.06524681e-01, 1.99530457e-01,\n",
       "       1.84815079e-01, 6.64745671e-01, 8.80431300e-01, 5.27356970e-01,\n",
       "       1.29773813e-01, 5.66506975e-01, 6.49023446e-01, 1.24690434e-01,\n",
       "       4.54124962e-01, 4.99849315e-01, 5.25681010e-01, 5.76363702e-01,\n",
       "       4.44761759e-01, 7.18179849e-01, 5.61448593e-01, 4.50419790e-01,\n",
       "       4.99456193e-01, 7.66843758e-01, 5.54644589e-01, 9.77334689e-01,\n",
       "       8.31029504e-01, 8.18229157e-01, 2.31398048e-02, 9.99717432e-01,\n",
       "       5.88371528e-01, 7.90781826e-01, 7.68458482e-01, 5.51328839e-01,\n",
       "       9.22535685e-01, 7.66595373e-01, 9.65224035e-01, 9.04224176e-01,\n",
       "       7.67833229e-01, 6.90737866e-01, 3.29201090e-01, 9.91958855e-01,\n",
       "       4.94460406e-02, 7.49963476e-01, 5.34515826e-01, 3.67480152e-01,\n",
       "       5.92772560e-01, 7.24385368e-01, 2.30614490e-01, 1.68149529e-01,\n",
       "       3.64684600e-01, 9.63200835e-01, 8.66912833e-02, 9.47517215e-04,\n",
       "       1.82518013e-01, 7.22777141e-01, 2.63841944e-01, 6.65832073e-01,\n",
       "       1.77120511e-01, 6.71423885e-01, 1.07246709e-01, 9.09624771e-01,\n",
       "       4.03458099e-01, 8.01627548e-01, 5.94841647e-01, 5.28241105e-01,\n",
       "       9.14291253e-01, 8.80700292e-01, 2.25957526e-01, 1.80278533e-01,\n",
       "       6.05102568e-01, 7.53726863e-01, 8.30900039e-01, 6.89238948e-01,\n",
       "       6.77116114e-01, 1.46856629e-01, 3.78783947e-01, 7.55553653e-01,\n",
       "       4.50984993e-01, 4.63043278e-01, 5.35481156e-01, 1.95267349e-01,\n",
       "       9.15123796e-01, 8.23908920e-02, 1.10905498e-02, 5.96684956e-01,\n",
       "       1.70598468e-01, 4.89786788e-01, 7.30467268e-01, 8.65799162e-01,\n",
       "       1.60883332e-01, 3.49996668e-01, 3.44018803e-01, 3.86847794e-01,\n",
       "       2.41490283e-02, 9.65324038e-01, 4.80272406e-01, 9.86250973e-02,\n",
       "       9.98063310e-01, 4.78237478e-01, 4.88295994e-01, 5.47017049e-01,\n",
       "       6.36764360e-01, 5.71248905e-01, 3.82667490e-01, 6.31759816e-01,\n",
       "       5.84366104e-01, 1.32491572e-01, 5.23849378e-01, 4.93686784e-01,\n",
       "       3.37431027e-01, 7.95326019e-02, 7.26960623e-01, 8.56173341e-02,\n",
       "       2.61750932e-01, 3.47655127e-01, 5.23438024e-01, 3.46932521e-01,\n",
       "       1.26913484e-01, 9.07197979e-01, 6.35929069e-01, 4.09050023e-01,\n",
       "       5.43332748e-01, 1.84949416e-01, 7.91500999e-01, 2.19071103e-01,\n",
       "       3.15932854e-01, 6.76397962e-01, 4.69793453e-01, 3.67535411e-01,\n",
       "       8.78545972e-01, 1.67790702e-01, 7.06622452e-02, 8.71794968e-01,\n",
       "       1.99996241e-01, 3.93347663e-01, 7.80644159e-01, 6.08096159e-01,\n",
       "       7.87599388e-03, 4.60195536e-02, 5.80448741e-01, 3.72311109e-01,\n",
       "       2.05196747e-01, 7.34255428e-02, 7.50187236e-01, 5.33446531e-01,\n",
       "       3.64960396e-01, 1.11239564e-01, 1.46407412e-02, 1.65581048e-01,\n",
       "       6.22206770e-03, 1.56895575e-01, 9.03135637e-01, 2.82441176e-01,\n",
       "       8.49966846e-01, 5.97868621e-01, 9.62265968e-01, 1.84349612e-01,\n",
       "       7.50186758e-01, 4.29742134e-01, 9.95470502e-01, 2.71726314e-02,\n",
       "       3.78680108e-01, 4.98519078e-01, 2.46148265e-01, 5.93906267e-01,\n",
       "       8.43586970e-01, 4.61867858e-01, 3.50415727e-01, 7.90214865e-01,\n",
       "       2.00594819e-01, 2.51944811e-01, 9.85700140e-01, 7.66126014e-01,\n",
       "       1.91307477e-01, 5.86366359e-01, 1.27103107e-01, 6.63916770e-01,\n",
       "       3.50494108e-02, 1.82768158e-01, 1.32899577e-01, 6.41358767e-01,\n",
       "       7.97041798e-01, 2.20939903e-02, 8.71434810e-02, 3.65698600e-02,\n",
       "       7.52429497e-02, 1.08837961e-01, 7.30721969e-01, 7.71727790e-01,\n",
       "       5.19076784e-02, 1.47003409e-01, 2.83422045e-02, 8.70461976e-01,\n",
       "       7.23236405e-01, 2.62960332e-01, 6.65885630e-01, 9.32604148e-01,\n",
       "       3.30016664e-01, 6.55962544e-02, 1.76173490e-02, 9.16365749e-01,\n",
       "       3.49084966e-01, 9.60331115e-01, 1.92728715e-01, 9.91245215e-01,\n",
       "       4.70327144e-01, 7.23891894e-01, 4.44178457e-01, 4.49084743e-01,\n",
       "       2.95665735e-01, 2.89533661e-01, 7.16112844e-01, 5.57623270e-01,\n",
       "       3.88939462e-01, 1.91883087e-01, 6.89861612e-02, 6.92529566e-01,\n",
       "       1.20793434e-01, 1.22715962e-01, 2.24447278e-01, 4.58676312e-01,\n",
       "       4.76598754e-02, 3.31024144e-01, 6.10749679e-01, 6.89778276e-01,\n",
       "       3.56185857e-01, 5.77080389e-01, 8.44931915e-01, 3.23762610e-02,\n",
       "       1.91809621e-01, 2.07003248e-01, 3.39408272e-01, 3.24323707e-01,\n",
       "       2.39436972e-01, 1.09828050e-01, 2.57936329e-01, 7.54689612e-01,\n",
       "       4.54284286e-02, 1.23592971e-01, 5.06433829e-02, 8.08910252e-01,\n",
       "       8.00611201e-01, 2.63896339e-01, 8.93669434e-01, 4.21068794e-01,\n",
       "       2.99270225e-01, 2.95107421e-01, 1.27644960e-01, 3.95408133e-01,\n",
       "       3.91089139e-01, 6.53799898e-01, 3.70780681e-01, 2.40658248e-01,\n",
       "       4.64662815e-01, 8.74684847e-01, 8.06248163e-01, 5.10632153e-01,\n",
       "       3.06011508e-01, 8.49807013e-01, 8.21260453e-01, 6.42553123e-01,\n",
       "       9.61229318e-01, 5.14720133e-01, 9.38474372e-01, 8.85223904e-01,\n",
       "       1.45047399e-01, 3.32278385e-01, 3.80207715e-01, 2.76282936e-01,\n",
       "       5.98538860e-01, 5.19151163e-01, 2.15035977e-01, 9.53482838e-01,\n",
       "       6.61889395e-01, 2.60229307e-01, 9.82801735e-02, 2.33571980e-01,\n",
       "       9.80744024e-01, 8.68876126e-01, 7.27581939e-02, 6.59299845e-01,\n",
       "       5.90785196e-01, 8.88980174e-01, 4.02297036e-01, 7.41155288e-01,\n",
       "       4.17400285e-02, 4.97826323e-01, 2.47299799e-01, 7.00406927e-01,\n",
       "       9.56500017e-01, 8.15751937e-01, 4.57999709e-01, 1.88675926e-01,\n",
       "       3.53875170e-01, 2.16116023e-01, 5.47610309e-01, 7.34335472e-01,\n",
       "       2.50476455e-01, 1.96104583e-01, 6.07514621e-01, 9.06777459e-01,\n",
       "       8.78993354e-01, 3.05184157e-02, 6.45309369e-01, 6.48811247e-01,\n",
       "       1.27152237e-01, 3.38242051e-01, 6.70447704e-01, 8.71585107e-01,\n",
       "       6.92889611e-01, 2.70577551e-01, 7.28729284e-01, 1.33222664e-01,\n",
       "       3.99069878e-01, 3.98073300e-01, 9.64787538e-01, 1.38306968e-01,\n",
       "       2.64332566e-03, 1.90324077e-02, 3.73830580e-01, 2.08000122e-01,\n",
       "       4.82463295e-01, 6.59384334e-01, 2.88601055e-01, 9.69422525e-01,\n",
       "       9.04606723e-01, 3.96454980e-01, 5.43265756e-01, 9.39272378e-01,\n",
       "       7.70408410e-01, 3.98379718e-01, 9.69940824e-01, 7.64661370e-01,\n",
       "       4.99057846e-01, 8.05610306e-01, 1.61287446e-01, 7.16727403e-01,\n",
       "       7.59805821e-01, 7.33811825e-01, 6.42266291e-02, 7.83999347e-01,\n",
       "       7.56374449e-01, 7.08961414e-01, 1.75490289e-01, 4.34351523e-01,\n",
       "       9.85932006e-01, 7.07932464e-01, 9.94080982e-01, 9.00325345e-01,\n",
       "       5.64460889e-01, 7.91094170e-01, 8.19689782e-01, 5.43925314e-01,\n",
       "       6.70770175e-01, 8.28946784e-01, 8.93717009e-01, 1.04079178e-02,\n",
       "       7.46346551e-01, 3.70801988e-01, 8.72742747e-01, 3.24329809e-01,\n",
       "       7.81342426e-01, 2.66602846e-01, 1.69759765e-01, 9.21570918e-01,\n",
       "       9.00686312e-01, 6.30192999e-01, 6.32967836e-01, 8.70033837e-01])"
      ]
     },
     "execution_count": 12,
     "metadata": {},
     "output_type": "execute_result"
    }
   ],
   "source": [
    "# This is used for plots and numpy\n",
    "%pylab inline \n",
    "\n",
    "import random\n",
    "dim = int(1000)\n",
    "\n",
    "vec = np.random.rand(dim)\n",
    "vec"
   ]
  },
  {
   "cell_type": "code",
   "execution_count": 15,
   "metadata": {
    "deletable": false,
    "nbgrader": {
     "checksum": "223c15c7276b82fe757f18357a42b7a2",
     "grade": true,
     "grade_id": "random_check",
     "locked": true,
     "points": 3,
     "solution": false
    }
   },
   "outputs": [],
   "source": [
    "from numpy.testing import *\n",
    "\n",
    "assert_equal(type(vec), numpy.ndarray)\n",
    "assert_equal(len(vec), dim)\n",
    "for ob in vec:\n",
    "    assert_equal(type(ob), numpy.float64)"
   ]
  },
  {
   "cell_type": "markdown",
   "metadata": {
    "deletable": false,
    "nbgrader": {
     "checksum": "51a82e789d9ec00a9660d9e01a93ac95",
     "grade": false,
     "grade_id": "norm-desc",
     "locked": true,
     "solution": false
    }
   },
   "source": [
    "Write a function that evaluates the $l_p$ norm of a vector in $R^d$. We remind:\n",
    "$$\n",
    "\\|v \\|_{p} := \\left(\\sum_i (v_i)^p\\right)^{1/p}\n",
    "$$\n",
    "\n",
    "the function should take as arguments a `list`, containing your $R^d$ vector, and a number `p` in the range $[1, \\infty]$, indicating the exponent of the norm. \n",
    "\n",
    "**Note:** an infinite float number is given by `float(\"inf\")`.\n",
    "\n",
    "Throw an assertion (look it up on google!) if the exponent is not in the range you expect."
   ]
  },
  {
   "cell_type": "code",
   "execution_count": null,
   "metadata": {
    "deletable": false,
    "nbgrader": {
     "checksum": "00a224e6d87bdf9db02149ceb7103a50",
     "grade": false,
     "grade_id": "norm",
     "locked": false,
     "solution": true
    }
   },
   "outputs": [],
   "source": [
    "def p_norm(vector,p):\n",
    "    # YOUR CODE HERE\n",
    "    raise NotImplementedError()"
   ]
  },
  {
   "cell_type": "code",
   "execution_count": null,
   "metadata": {
    "deletable": false,
    "nbgrader": {
     "checksum": "b5d2b6748279174b783a902b0b03f5f0",
     "grade": true,
     "grade_id": "norm-check-1",
     "locked": true,
     "points": 1,
     "solution": false
    }
   },
   "outputs": [],
   "source": [
    "assert_equal(p_norm(range(10),1), 45.0)\n",
    "assert_equal(p_norm([3,4], 2), 5.0)"
   ]
  },
  {
   "cell_type": "code",
   "execution_count": null,
   "metadata": {
    "collapsed": true,
    "deletable": false,
    "nbgrader": {
     "checksum": "ce79af156d645e12269d9f5d3a6d2e36",
     "grade": true,
     "grade_id": "norm-check-2",
     "locked": true,
     "points": 1,
     "solution": false
    }
   },
   "outputs": [],
   "source": [
    "assert_equal(p_norm([-1,-.5,.5], float(\"inf\")), 1)"
   ]
  },
  {
   "cell_type": "code",
   "execution_count": null,
   "metadata": {
    "deletable": false,
    "nbgrader": {
     "checksum": "bdf0947f5e6d0b4be27d2eda93dc27dd",
     "grade": true,
     "grade_id": "norm-check-3",
     "locked": true,
     "points": 1,
     "solution": false
    }
   },
   "outputs": [],
   "source": [
    "assert_raises(AssertionError, p_norm, [2,3], 0)\n",
    "assert_raises(AssertionError, p_norm, [2,3], -1)"
   ]
  },
  {
   "cell_type": "markdown",
   "metadata": {
    "deletable": false,
    "nbgrader": {
     "checksum": "c79fcf0a64e458c15f5949bbaf39a44e",
     "grade": false,
     "grade_id": "fd-desc",
     "locked": true,
     "solution": false
    }
   },
   "source": [
    "# Playing with condition numbers\n",
    "\n",
    "\n",
    "In this exercise you will have to figure out what are the optimal\n",
    "values of the stepping interval when approximating derivatives using\n",
    "the finite difference method. See here_ for a short introduction on\n",
    "how to run these programs on SISSA machines.\n",
    "\n",
    "## 1. Finite differences\n",
    "Write a program to compute the finite difference (`FD`)\n",
    "approximation of the derivative of a function `f`, computed at\n",
    "point `x`, using a stepping of size `h`. Recall the definition of\n",
    "approximate derivative:\n",
    "\n",
    "$$\n",
    "FD(f,x,h) := \\frac{f(x+h)-f(x)}{h}\n",
    "$$"
   ]
  },
  {
   "cell_type": "code",
   "execution_count": 22,
   "metadata": {
    "deletable": false,
    "nbgrader": {
     "checksum": "76e4488d27cc346f6ac53d1a145aad17",
     "grade": false,
     "grade_id": "fd",
     "locked": false,
     "solution": true
    }
   },
   "outputs": [],
   "source": [
    "def FD(f, x, h):\n",
    "    return (f(x+h)-f(x))/h\n",
    "   "
   ]
  },
  {
   "cell_type": "code",
   "execution_count": 23,
   "metadata": {
    "deletable": false,
    "nbgrader": {
     "checksum": "f9924babcbbb399825ad6f2087bc795b",
     "grade": true,
     "grade_id": "fd-check-1",
     "locked": true,
     "points": 1,
     "solution": false
    }
   },
   "outputs": [],
   "source": [
    "assert_equal(FD(lambda x: x, 0, .125), 1.0)"
   ]
  },
  {
   "cell_type": "markdown",
   "metadata": {
    "deletable": false,
    "nbgrader": {
     "checksum": "2c98afc1a075f16ab23e206a827dc233",
     "grade": false,
     "grade_id": "fd2-desc",
     "locked": true,
     "solution": false
    }
   },
   "source": [
    "## 2. Compute FD\n",
    "\n",
    "Evaluate this function for the derivative of `sin(x)` evaluated at `x=1`, for values of `h` equal to `1e-i`, with `i=0,...,20`. Store the values of the finite differences in the list `fd1`."
   ]
  },
  {
   "cell_type": "code",
   "execution_count": 24,
   "metadata": {
    "deletable": false,
    "nbgrader": {
     "checksum": "b4dcf56a59887d4319b2cb98ffa98976",
     "grade": false,
     "grade_id": "fd2",
     "locked": false,
     "points": 1,
     "solution": true
    }
   },
   "outputs": [
    {
     "ename": "NotImplementedError",
     "evalue": "",
     "output_type": "error",
     "traceback": [
      "\u001b[1;31m---------------------------------------------------------------------------\u001b[0m",
      "\u001b[1;31mNotImplementedError\u001b[0m                       Traceback (most recent call last)",
      "\u001b[1;32m<ipython-input-24-15b94d1fa268>\u001b[0m in \u001b[0;36m<module>\u001b[1;34m\u001b[0m\n\u001b[0;32m      1\u001b[0m \u001b[1;31m# YOUR CODE HERE\u001b[0m\u001b[1;33m\u001b[0m\u001b[1;33m\u001b[0m\u001b[1;33m\u001b[0m\u001b[0m\n\u001b[1;32m----> 2\u001b[1;33m \u001b[1;32mraise\u001b[0m \u001b[0mNotImplementedError\u001b[0m\u001b[1;33m(\u001b[0m\u001b[1;33m)\u001b[0m\u001b[1;33m\u001b[0m\u001b[1;33m\u001b[0m\u001b[0m\n\u001b[0m",
      "\u001b[1;31mNotImplementedError\u001b[0m: "
     ]
    }
   ],
   "source": [
    "for i in range \n",
    "FD(lambda x:sin(x),1,e-i)"
   ]
  },
  {
   "cell_type": "code",
   "execution_count": null,
   "metadata": {
    "deletable": false,
    "nbgrader": {
     "checksum": "182c007dceec8bf65659546a6c28a59f",
     "grade": true,
     "grade_id": "fd2-check1",
     "locked": true,
     "points": 1,
     "solution": false
    }
   },
   "outputs": [],
   "source": [
    "assert_equal(len(fd1), 21)\n",
    "expected = [0.067826442017785205, 0.49736375253538911, 0.53608598101186899, 0.5398814803603269, 0.54026023141862112, 0.54029809850586474, 0.54030188512133037, 0.54030226404044868, 0.54030229179602429, 0.54030235840940577, 0.54030224738710331, 0.54030113716407868, 0.54034554608506369, 0.53956838996782608, 0.53290705182007514, 0.55511151231257827, 0.0, 0.0, 0.0, 0.0, 0.0]\n",
    "assert_almost_equal(fd1,expected,decimal=4)"
   ]
  },
  {
   "cell_type": "markdown",
   "metadata": {
    "deletable": false,
    "nbgrader": {
     "checksum": "4e46ca6958c6f03f3a259490f4d9844d",
     "grade": false,
     "grade_id": "fd3-desc",
     "locked": true,
     "solution": false
    }
   },
   "source": [
    "## 3. Error plots\n",
    "\n",
    "Plot the error, defined as `abs(FD-cos(1.0))` where `FD` is your approximation, in `loglog` format and explain what you see. A good way to emphasize the result is to give the option `'-o'` to the plot command."
   ]
  },
  {
   "cell_type": "code",
   "execution_count": null,
   "metadata": {
    "deletable": false,
    "nbgrader": {
     "checksum": "58f3d772034530fae4f1394fd9ac9065",
     "grade": true,
     "grade_id": "fd3",
     "locked": false,
     "points": 1,
     "solution": true
    }
   },
   "outputs": [],
   "source": [
    "# YOUR CODE HERE\n",
    "raise NotImplementedError()"
   ]
  },
  {
   "cell_type": "markdown",
   "metadata": {
    "deletable": false,
    "nbgrader": {
     "checksum": "0f366e5b02bb5272ce93a6f24ef607a0",
     "grade": true,
     "grade_id": "fd3-comment",
     "locked": false,
     "points": 5,
     "solution": true
    }
   },
   "source": [
    "YOUR ANSWER HERE"
   ]
  },
  {
   "cell_type": "markdown",
   "metadata": {
    "deletable": false,
    "nbgrader": {
     "checksum": "6105b9c6350f6856a194da4d139b3794",
     "grade": false,
     "grade_id": "fd-base2-desc",
     "locked": true,
     "solution": false
    }
   },
   "source": [
    "## 4. Error plots base 2\n",
    "Repeate step 2 and 3 above, but using powers of `2` instead of powers of `10`, i.e., using `h` equal to `2**(-i)` for `i=1,...,60`. Do you see differences? How do you explain these differences? Shortly comment.  A good way to emphasize the result is to give the option `'-o'` to the plot command."
   ]
  },
  {
   "cell_type": "markdown",
   "metadata": {
    "deletable": false,
    "nbgrader": {
     "checksum": "673e9b7faebb995a403a6a1e9ea76f47",
     "grade": true,
     "grade_id": "fd-base2",
     "locked": false,
     "points": 1,
     "solution": true
    }
   },
   "source": [
    "YOUR ANSWER HERE"
   ]
  },
  {
   "cell_type": "markdown",
   "metadata": {
    "deletable": false,
    "nbgrader": {
     "checksum": "42758fc5eb31ceb960921a409325d936",
     "grade": true,
     "grade_id": "fd-base2-comment",
     "locked": false,
     "points": 5,
     "solution": true
    }
   },
   "source": [
    "YOUR ANSWER HERE"
   ]
  },
  {
   "cell_type": "markdown",
   "metadata": {
    "deletable": false,
    "nbgrader": {
     "checksum": "7f0300838939fb3637561d2da88d79dd",
     "grade": false,
     "grade_id": "cfd-desc",
     "locked": true,
     "solution": false
    }
   },
   "source": [
    "## 5. Central Finite Differences\n",
    "Write a function that computes the central finite difference approximation (`CFD`), defined as \n",
    "\n",
    "$$\n",
    "CFD(f,x,h) := \\frac{f(x+h)-f(x-h)}{2h}\n",
    "$$\n"
   ]
  },
  {
   "cell_type": "code",
   "execution_count": null,
   "metadata": {
    "collapsed": true,
    "deletable": false,
    "nbgrader": {
     "checksum": "d5de503bdfc25f777473402d07a89211",
     "grade": false,
     "grade_id": "cfd",
     "locked": false,
     "solution": true
    }
   },
   "outputs": [],
   "source": [
    "def CFD(f, x, h):\n",
    "    # YOUR CODE HERE\n",
    "    raise NotImplementedError()"
   ]
  },
  {
   "cell_type": "code",
   "execution_count": null,
   "metadata": {
    "deletable": false,
    "nbgrader": {
     "checksum": "2851b0f40a3773162f52614524b25963",
     "grade": true,
     "grade_id": "cfd-check",
     "locked": true,
     "points": 1,
     "solution": false
    }
   },
   "outputs": [],
   "source": [
    "assert_equal(CFD(lambda x: x**2, 0.0, .5), 0.0)\n",
    "assert_equal(CFD(lambda x: x**2, 1.0, .5), 2.0)"
   ]
  },
  {
   "cell_type": "markdown",
   "metadata": {
    "deletable": false,
    "nbgrader": {
     "checksum": "0da2440c559f1c3ee4c746c498914b48",
     "grade": false,
     "grade_id": "cfd2-desc",
     "locked": true,
     "solution": false
    }
   },
   "source": [
    "## 6. Error plots for CFD\n",
    "\n",
    "Repeat steps 2., 3. and 4. and explain what you see. What is the *order* of the approximation 1. and what is the order of the approximation 5.? What's the order of the cancellation errors? "
   ]
  },
  {
   "cell_type": "code",
   "execution_count": null,
   "metadata": {
    "deletable": false,
    "nbgrader": {
     "checksum": "cb123e54409262ac79e1fb86fdb478f1",
     "grade": true,
     "grade_id": "cfd2-plots",
     "locked": false,
     "points": 2,
     "solution": true
    }
   },
   "outputs": [],
   "source": [
    "# YOUR CODE HERE\n",
    "raise NotImplementedError()"
   ]
  },
  {
   "cell_type": "markdown",
   "metadata": {
    "deletable": false,
    "nbgrader": {
     "checksum": "f90479827a3e6e2a1062164895849b6d",
     "grade": true,
     "grade_id": "cfd2-plots-comment",
     "locked": false,
     "points": 5,
     "solution": true
    }
   },
   "source": [
    "YOUR ANSWER HERE"
   ]
  },
  {
   "cell_type": "markdown",
   "metadata": {
    "deletable": false,
    "nbgrader": {
     "checksum": "10bc99f084a9050397f0c1f708565964",
     "grade": false,
     "grade_id": "array-desc",
     "locked": true,
     "solution": false
    }
   },
   "source": [
    "# Numpy\n",
    "\n",
    "Numpy provides a very powerful array container. The first line of this ipython notebook has imported all of numpy functionalities in your notebook, just as if you typed::\n",
    "\n",
    "    from numpy import *\n",
    "    \n",
    "Create a numpy array whith entries that range form 0 to 64. Use the correct numpy function to do so. Call it `x`. "
   ]
  },
  {
   "cell_type": "code",
   "execution_count": null,
   "metadata": {
    "collapsed": true,
    "deletable": false,
    "nbgrader": {
     "checksum": "6550f75e6ff7e6ce91a8be32deafc301",
     "grade": false,
     "grade_id": "array",
     "locked": false,
     "solution": true
    }
   },
   "outputs": [],
   "source": [
    "# YOUR CODE HERE\n",
    "raise NotImplementedError()"
   ]
  },
  {
   "cell_type": "code",
   "execution_count": null,
   "metadata": {
    "collapsed": true,
    "deletable": false,
    "nbgrader": {
     "checksum": "8faab133eca46158c2547fa7b0967542",
     "grade": true,
     "grade_id": "array-check",
     "locked": true,
     "points": 1,
     "solution": false
    }
   },
   "outputs": [],
   "source": [
    "assert_equal(type(x), ndarray)\n",
    "assert_equal(len(x), 64)\n",
    "for i in xrange(64):\n",
    "    assert_equal(x[i], float(i))"
   ]
  },
  {
   "cell_type": "markdown",
   "metadata": {
    "deletable": false,
    "nbgrader": {
     "checksum": "4cd4b51907f835b495ddbf7dbaa51712",
     "grade": false,
     "grade_id": "array2-desc",
     "locked": true,
     "solution": false
    }
   },
   "source": [
    "Reshape the one dimensional array, to become a 4 rows 2 dimensional array, let numpy evaluate the correct number of culumns. Call it `y`."
   ]
  },
  {
   "cell_type": "code",
   "execution_count": null,
   "metadata": {
    "deletable": false,
    "nbgrader": {
     "checksum": "5f4fd1f167cb5329adf97b2ec8419aeb",
     "grade": false,
     "grade_id": "array2",
     "locked": false,
     "solution": true
    }
   },
   "outputs": [],
   "source": [
    "# YOUR CODE HERE\n",
    "raise NotImplementedError()"
   ]
  },
  {
   "cell_type": "code",
   "execution_count": null,
   "metadata": {
    "deletable": false,
    "nbgrader": {
     "checksum": "ea78fb4567e08e5401b67e4d085856b2",
     "grade": true,
     "grade_id": "array2-check",
     "locked": true,
     "points": 1,
     "solution": false
    }
   },
   "outputs": [],
   "source": [
    "assert_equal(shape(y), (4,16))"
   ]
  },
  {
   "cell_type": "markdown",
   "metadata": {
    "deletable": false,
    "nbgrader": {
     "checksum": "d0bbc9f6e1e02dbbc95ec51cf7122c3b",
     "grade": false,
     "grade_id": "array3-desc",
     "locked": true,
     "solution": false
    }
   },
   "source": [
    "Get the following *slices* of `y`:\n",
    "\n",
    "* All the rows and the first three colums. Name it `sl1`.\n",
    "* All the colums and the first three rows. Name it `sl2`.\n",
    "* Third to sixth (included) columns and all the rows. Name it `sl3`.\n",
    "* The last three columns and all the rows. Name it `sl4`."
   ]
  },
  {
   "cell_type": "code",
   "execution_count": null,
   "metadata": {
    "deletable": false,
    "nbgrader": {
     "checksum": "e1a3a50073b0902f287b4b0c38651fd3",
     "grade": false,
     "grade_id": "array3",
     "locked": false,
     "points": 1,
     "solution": true
    }
   },
   "outputs": [],
   "source": [
    "# YOUR CODE HERE\n",
    "raise NotImplementedError()"
   ]
  },
  {
   "cell_type": "code",
   "execution_count": null,
   "metadata": {
    "deletable": false,
    "nbgrader": {
     "checksum": "1badf276fe91c6c14eb9338c19b73e0b",
     "grade": true,
     "grade_id": "array3-test",
     "locked": true,
     "points": 1,
     "solution": false
    }
   },
   "outputs": [],
   "source": [
    "assert_equal(sl1,[[0,1,2],[16,17,18],[32,33,34],[48,49,50]])\n",
    "assert_equal(sl2,[[0,1,2,3,4,5,6,7,8,9,10,11,12,13,14,15],[16,17,18,19,20,21,22,23,24,25,26,27,28,29,30,31],[32,33,34,35,36,37,38,39,40,41,42,43,44,45,46,47]])\n",
    "assert_equal(sl3,[[3,4,5,6],[19,20,21,22],[35,36,37,38],[51,52,53,54]])\n",
    "assert_equal(sl4,[[13,14,15],[29,30,31],[45,46,47],[61,62,63]])"
   ]
  },
  {
   "cell_type": "markdown",
   "metadata": {
    "deletable": false,
    "nbgrader": {
     "checksum": "33b9e1780c0dd4ffea9751aebf84025e",
     "grade": false,
     "grade_id": "array4-desc",
     "locked": true,
     "solution": false
    }
   },
   "source": [
    "Now reshape the array, as if you wanted to feed it to a fortran routine. Call it `z`."
   ]
  },
  {
   "cell_type": "code",
   "execution_count": null,
   "metadata": {
    "deletable": false,
    "nbgrader": {
     "checksum": "a1d8e18c4b52c6ffbd79742b57141ec0",
     "grade": true,
     "grade_id": "array4",
     "locked": false,
     "points": 1,
     "solution": true
    }
   },
   "outputs": [],
   "source": [
    "# YOUR CODE HERE\n",
    "raise NotImplementedError()"
   ]
  },
  {
   "cell_type": "markdown",
   "metadata": {
    "deletable": false,
    "nbgrader": {
     "checksum": "89ccb4f60ec33efae83377292eb3a8db",
     "grade": false,
     "grade_id": "array5-desc",
     "locked": true,
     "points": 1,
     "solution": false
    }
   },
   "source": [
    "Comment on the result, what has changed with respect to `y`? "
   ]
  },
  {
   "cell_type": "markdown",
   "metadata": {
    "deletable": false,
    "nbgrader": {
     "checksum": "5e50e6c6ca7f382d3ce2e2be28ba537a",
     "grade": true,
     "grade_id": "array5",
     "locked": false,
     "points": 1,
     "solution": true
    }
   },
   "source": [
    "YOUR ANSWER HERE"
   ]
  },
  {
   "cell_type": "markdown",
   "metadata": {
    "deletable": false,
    "nbgrader": {
     "checksum": "1829db8f96489200d1dc93edcb14b265",
     "grade": false,
     "grade_id": "array6-desc",
     "locked": true,
     "solution": false
    }
   },
   "source": [
    "Set the fourth element of `x` to 666666, and print `x`, `y`, `z`. Comment on the result"
   ]
  },
  {
   "cell_type": "code",
   "execution_count": null,
   "metadata": {
    "deletable": false,
    "nbgrader": {
     "checksum": "87726e086d7a7a73c1b8655540f7e852",
     "grade": true,
     "grade_id": "array6-1",
     "locked": false,
     "points": 1,
     "solution": true
    }
   },
   "outputs": [],
   "source": [
    "# YOUR CODE HERE\n",
    "raise NotImplementedError()"
   ]
  },
  {
   "cell_type": "markdown",
   "metadata": {
    "deletable": false,
    "nbgrader": {
     "checksum": "847fd2ffa5fc2351fcfd401fb9c1421b",
     "grade": true,
     "grade_id": "array6-2",
     "locked": false,
     "points": 3,
     "solution": true
    }
   },
   "source": [
    "YOUR ANSWER HERE"
   ]
  },
  {
   "cell_type": "markdown",
   "metadata": {
    "deletable": false,
    "nbgrader": {
     "checksum": "9873725533c9c62aa22dc841f6ff3c04",
     "grade": false,
     "grade_id": "array7-1-desc",
     "locked": true,
     "solution": false
    }
   },
   "source": [
    "## Arrays and Matrices\n",
    "\n",
    "Define 2 arrays, `A` of dimensions (2,3) and `B` of dimension (3,4).\n",
    "\n",
    "* Perform the operation `C = A.dot(B)`. Comment the result, or the error you get."
   ]
  },
  {
   "cell_type": "code",
   "execution_count": null,
   "metadata": {
    "deletable": false,
    "nbgrader": {
     "checksum": "15bc5991a98ef17ada24a81a38ccf098",
     "grade": false,
     "grade_id": "array7-0",
     "locked": false,
     "solution": true
    }
   },
   "outputs": [],
   "source": [
    "# YOUR CODE HERE\n",
    "raise NotImplementedError()"
   ]
  },
  {
   "cell_type": "code",
   "execution_count": null,
   "metadata": {
    "deletable": false,
    "nbgrader": {
     "checksum": "e004ee40f8603bf8cbf63b77072489b6",
     "grade": true,
     "grade_id": "array7-0-test",
     "locked": true,
     "points": 1,
     "solution": false
    }
   },
   "outputs": [],
   "source": [
    "assert_equal(A.shape,(2,3))\n",
    "assert_equal(B.shape,(3,4))\n",
    "assert_equal(C.shape,(2,4))\n",
    "expected = sum(A[1,:]*B[:,2])\n",
    "assert_equal(C[1,2],expected)"
   ]
  },
  {
   "cell_type": "markdown",
   "metadata": {
    "deletable": false,
    "nbgrader": {
     "checksum": "0fffe3b48b380095d30a35596935b2b2",
     "grade": true,
     "grade_id": "array7-1",
     "locked": false,
     "points": 1,
     "solution": true
    }
   },
   "source": [
    "YOUR ANSWER HERE"
   ]
  },
  {
   "cell_type": "markdown",
   "metadata": {
    "deletable": false,
    "nbgrader": {
     "checksum": "8daa41c2ab4249f4c3a24697a3834cfe",
     "grade": false,
     "grade_id": "array7-2-desc",
     "locked": true,
     "solution": false
    }
   },
   "source": [
    "* Perform the operation `C = A*(B)`. Comment the result, or the error you get."
   ]
  },
  {
   "cell_type": "code",
   "execution_count": null,
   "metadata": {},
   "outputs": [],
   "source": [
    "C = A*B"
   ]
  },
  {
   "cell_type": "markdown",
   "metadata": {
    "deletable": false,
    "nbgrader": {
     "checksum": "47db906d12d079403949954c4f79c316",
     "grade": true,
     "grade_id": "array7-2",
     "locked": false,
     "points": 1,
     "solution": true
    }
   },
   "source": [
    "YOUR ANSWER HERE"
   ]
  },
  {
   "cell_type": "markdown",
   "metadata": {},
   "source": [
    " * Convert A and B, from arrays to matrices and perform `A*B`. Comment the result."
   ]
  },
  {
   "cell_type": "code",
   "execution_count": null,
   "metadata": {
    "deletable": false,
    "nbgrader": {
     "checksum": "b81bf715c9c1d4ccbc8ea94abe5e7e0b",
     "grade": false,
     "grade_id": "array7-3",
     "locked": false,
     "points": 1,
     "solution": true
    }
   },
   "outputs": [],
   "source": [
    "# YOUR CODE HERE\n",
    "raise NotImplementedError()"
   ]
  },
  {
   "cell_type": "code",
   "execution_count": null,
   "metadata": {
    "deletable": false,
    "nbgrader": {
     "checksum": "30fb1a393cb4628e67361886ad51a242",
     "grade": true,
     "grade_id": "array7-3-test",
     "locked": true,
     "points": 1,
     "solution": false
    }
   },
   "outputs": [],
   "source": [
    "assert_equal(type(A),numpy.matrixlib.defmatrix.matrix)\n",
    "assert_equal(type(B),numpy.matrixlib.defmatrix.matrix)\n",
    "assert_equal(type(C),numpy.matrixlib.defmatrix.matrix)\n",
    "assert_equal(A.shape,(2,3))\n",
    "assert_equal(B.shape,(3,4))\n",
    "assert_equal(C.shape,(2,4))\n",
    "expected = sum(A[1,:]*B[:,2])\n",
    "assert_equal(C[1,2],expected)"
   ]
  },
  {
   "cell_type": "markdown",
   "metadata": {
    "deletable": false,
    "nbgrader": {
     "checksum": "08676ca6235af8c49ec80aa4a66a590e",
     "grade": true,
     "grade_id": "array7-3-1",
     "locked": false,
     "points": 1,
     "solution": true
    }
   },
   "source": [
    "YOUR ANSWER HERE"
   ]
  },
  {
   "cell_type": "markdown",
   "metadata": {
    "deletable": false,
    "nbgrader": {
     "checksum": "8b8d0c8c57aae75207e34b8fb2000846",
     "grade": false,
     "grade_id": "polynomials-desc",
     "locked": true,
     "solution": false
    }
   },
   "source": [
    "# Playing with polynomials\n",
    "\n",
    "The polynomial `(1-x)^6` can be expanded to::\n",
    "     \n",
    "     x^6 - 6*x^5 + 15*x^4 - 20*x^3 + 15*x^2 - 6*x + 1\n",
    "\n",
    "   The two forms above are equivalent from a mathematical point of\n",
    "   view, but may yield different results in a computer machine.\n",
    "\n",
    "   Compute and plot the values of this polynomial, using each of the\n",
    "   two forms, for 101 equally spaced points in the interval\n",
    "   `[0.995,1.005]`, i.e., with a spacing of 0.0001 (use linspace).\n",
    "   \n",
    "   Can you explain this behavior?\n"
   ]
  },
  {
   "cell_type": "code",
   "execution_count": null,
   "metadata": {
    "deletable": false,
    "nbgrader": {
     "checksum": "4cdc4cafeca5d880ebd261209ed618a3",
     "grade": true,
     "grade_id": "polynomials-1",
     "locked": false,
     "points": 2,
     "solution": true
    },
    "scrolled": true
   },
   "outputs": [],
   "source": [
    "# YOUR CODE HERE\n",
    "raise NotImplementedError()"
   ]
  },
  {
   "cell_type": "markdown",
   "metadata": {
    "deletable": false,
    "nbgrader": {
     "checksum": "6756da172811699667da7cf0fe44b1f0",
     "grade": true,
     "grade_id": "polynomials-2",
     "locked": false,
     "points": 1,
     "solution": true
    }
   },
   "source": [
    "YOUR ANSWER HERE"
   ]
  },
  {
   "cell_type": "markdown",
   "metadata": {
    "deletable": false,
    "nbgrader": {
     "checksum": "0a479e894bbf31104f4ec5fd00345c57",
     "grade": false,
     "grade_id": "lagrange-desc",
     "locked": true,
     "solution": false
    }
   },
   "source": [
    "**Playing with interpolation in python**\n",
    "\n",
    "1. Given a set of $n+1$ points $x_i$ as input (either a list of floats, or a numpy array of floats), construct a function `lagrange_basis(xi,i,x)` that returns the $i$-th Lagrange\n",
    "polynomial associated to $x_i$, evaluated at $x$. The $i$-th Lagrange polynomial is defined as polynomial of degree $n$ such that $l_i(x_j) = \\delta_{ij}$, where $\\delta$ is one if $i == j$ and zero otherwise.\n",
    "   \n",
    "Recall the mathematical definition of the $l_i(x)$ polynomials:\n",
    "\n",
    "$$\n",
    "l_i(x) := \\prod_{j=0, j\\neq i}^{n} \\frac{x-x_j}{x_i-x_j}\n",
    "$$\n"
   ]
  },
  {
   "cell_type": "code",
   "execution_count": null,
   "metadata": {
    "deletable": false,
    "nbgrader": {
     "checksum": "af917ca6cdf69420a0d0f725c3fb34ab",
     "grade": false,
     "grade_id": "lagrange",
     "locked": false,
     "solution": true
    }
   },
   "outputs": [],
   "source": [
    "def lagrange_basis(xi, i, x):\n",
    "    # YOUR CODE HERE\n",
    "    raise NotImplementedError()"
   ]
  },
  {
   "cell_type": "code",
   "execution_count": null,
   "metadata": {
    "deletable": false,
    "nbgrader": {
     "checksum": "73158993cb16085f319edae1418cccbb",
     "grade": true,
     "grade_id": "lagrange-check",
     "locked": true,
     "points": 4,
     "solution": false
    }
   },
   "outputs": [],
   "source": [
    "x = linspace(0,1,5)\n",
    "d = 3\n",
    "xi = linspace(0,1,d)\n",
    "\n",
    "assert_equal(list(lagrange_basis(xi, 0, x)),[1.0, 0.375, -0.0, -0.125, 0.0])\n",
    "assert_equal(list(lagrange_basis(xi, 1, x)),[0.0, 0.75, 1.0, 0.75, -0.0])\n",
    "assert_equal(list(lagrange_basis(xi, 2, x)),[-0.0, -0.125, 0.0, 0.375, 1.0])\n",
    "\n",
    "assert_raises(AssertionError, lagrange_basis, xi, -1, x)\n",
    "assert_raises(AssertionError, lagrange_basis, xi, 10, x)"
   ]
  },
  {
   "cell_type": "markdown",
   "metadata": {
    "deletable": false,
    "nbgrader": {
     "checksum": "450949a960185bfab0adb1e2780677b5",
     "grade": false,
     "grade_id": "lagrange2-desc",
     "locked": true,
     "solution": false
    }
   },
   "source": [
    "Construct the function `lagrange_interpolation(xi,g)` that, given the set of interpolation points `xi` and a function `g`, it returns **another function** that when evaluated at **x** returns the Lagrange interpolation polynomial of `g` defined as \n",
    "\n",
    "$$\n",
    " \\mathcal{L} g(x) := \\sum_{i=0}^n g(x_i) l_i(x)\n",
    "$$\n",
    "\n",
    "You could use this function as follows::\n",
    "\n",
    "    Lg = lagrange_interpolation(xi, g)\n",
    "    xi = linspace(0,1,101)\n",
    "    plot(x, g(x))\n",
    "    plot(x, Lg(x))\n",
    "    plot(xi, g(xi), 'or')"
   ]
  },
  {
   "cell_type": "code",
   "execution_count": null,
   "metadata": {
    "collapsed": true,
    "deletable": false,
    "nbgrader": {
     "checksum": "72546294ade57aa55dd327b7a989660e",
     "grade": false,
     "grade_id": "lagrange2",
     "locked": false,
     "solution": true
    }
   },
   "outputs": [],
   "source": [
    "def lagrange_interpolation(xi,f):\n",
    "    # YOUR CODE HERE\n",
    "    raise NotImplementedError()"
   ]
  },
  {
   "cell_type": "code",
   "execution_count": null,
   "metadata": {
    "deletable": false,
    "nbgrader": {
     "checksum": "40ee1bebe6d691744dccbef3c40fe196",
     "grade": true,
     "grade_id": "lagrange2-check",
     "locked": true,
     "points": 4,
     "solution": false
    }
   },
   "outputs": [],
   "source": [
    "# Check for polynomials. This should be **exact**\n",
    "g = lambda x: x**3+x**2\n",
    "\n",
    "xi = linspace(0,1,4)\n",
    "Lg = lagrange_interpolation(xi, g)\n",
    "\n",
    "x = linspace(0,1,1001)\n",
    "\n",
    "assert p_norm(g(x) - Lg(x),float('inf')) < 1e-15, 'This should be zero...'"
   ]
  },
  {
   "cell_type": "code",
   "execution_count": null,
   "metadata": {
    "collapsed": true
   },
   "outputs": [],
   "source": []
  }
 ],
 "metadata": {
  "kernelspec": {
   "display_name": "Python 3",
   "language": "python",
   "name": "python3"
  },
  "language_info": {
   "codemirror_mode": {
    "name": "ipython",
    "version": 3
   },
   "file_extension": ".py",
   "mimetype": "text/x-python",
   "name": "python",
   "nbconvert_exporter": "python",
   "pygments_lexer": "ipython3",
   "version": "3.7.3"
  }
 },
 "nbformat": 4,
 "nbformat_minor": 1
}
